{
 "cells": [
  {
   "cell_type": "code",
   "execution_count": 1,
   "id": "e6c791a4",
   "metadata": {},
   "outputs": [
    {
     "name": "stdout",
     "output_type": "stream",
     "text": [
      "Collecting Pyro4\n",
      "  Downloading Pyro4-4.82-py2.py3-none-any.whl.metadata (2.2 kB)\n",
      "Collecting serpent>=1.27 (from Pyro4)\n",
      "  Downloading serpent-1.41-py3-none-any.whl.metadata (5.8 kB)\n",
      "Downloading Pyro4-4.82-py2.py3-none-any.whl (89 kB)\n",
      "   ---------------------------------------- 0.0/90.0 kB ? eta -:--:--\n",
      "   ------------------ --------------------- 41.0/90.0 kB 2.0 MB/s eta 0:00:01\n",
      "   ---------------------------------------- 90.0/90.0 kB 1.7 MB/s eta 0:00:00\n",
      "Downloading serpent-1.41-py3-none-any.whl (9.6 kB)\n",
      "Installing collected packages: serpent, Pyro4\n",
      "Successfully installed Pyro4-4.82 serpent-1.41\n"
     ]
    }
   ],
   "source": [
    "!pip install Pyro4"
   ]
  },
  {
   "cell_type": "markdown",
   "id": "c4abcb2d",
   "metadata": {},
   "source": [
    "SERVER"
   ]
  },
  {
   "cell_type": "code",
   "execution_count": null,
   "id": "bc5a4e29",
   "metadata": {},
   "outputs": [
    {
     "name": "stdout",
     "output_type": "stream",
     "text": [
      "Server URI: PYRO:obj_4ff5cbefd14b4cc4a639b3bb6581c864@localhost:62502\n"
     ]
    }
   ],
   "source": [
    "import Pyro4\n",
    "\n",
    "@Pyro4.expose\n",
    "class StringConcatenator(object):\n",
    "    \n",
    "    def concatenate(self, str1, str2):\n",
    "        return str1 + str2\n",
    "\n",
    "def main():\n",
    "    daemon = Pyro4.Daemon()  # Create a Pyro daemon\n",
    "    uri = daemon.register(StringConcatenator)  # Register our class with the daemon\n",
    "    \n",
    "    print(\"Server URI:\", uri)\n",
    "    daemon.requestLoop()  # Start the event loop\n",
    "\n",
    "if __name__ == \"__main__\":\n",
    "    main()\n"
   ]
  },
  {
   "cell_type": "code",
   "execution_count": null,
   "id": "24a807ad",
   "metadata": {},
   "outputs": [],
   "source": []
  }
 ],
 "metadata": {
  "kernelspec": {
   "display_name": "Python 3 (ipykernel)",
   "language": "python",
   "name": "python3"
  },
  "language_info": {
   "codemirror_mode": {
    "name": "ipython",
    "version": 3
   },
   "file_extension": ".py",
   "mimetype": "text/x-python",
   "name": "python",
   "nbconvert_exporter": "python",
   "pygments_lexer": "ipython3",
   "version": "3.11.5"
  }
 },
 "nbformat": 4,
 "nbformat_minor": 5
}
