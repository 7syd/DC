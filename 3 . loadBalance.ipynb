{
 "cells": [
  {
   "cell_type": "code",
   "execution_count": 1,
   "id": "a619c7f0-f3de-41d8-8786-bd4194b43aca",
   "metadata": {},
   "outputs": [
    {
     "name": "stdout",
     "output_type": "stream",
     "text": [
      "Round Robin Load Balancing:\n",
      "Request 1 routed to Server1\n",
      "Request 2 routed to Server2\n",
      "Request 3 routed to Server3\n",
      "Request 4 routed to Server1\n",
      "Request 5 routed to Server2\n",
      "Request 6 routed to Server3\n",
      "Request 7 routed to Server1\n",
      "Request 8 routed to Server2\n",
      "Request 9 routed to Server3\n",
      "Request 10 routed to Server1\n",
      "\n",
      "Random Load Balancing:\n",
      "Request 1 routed to Server1\n",
      "Request 2 routed to Server2\n",
      "Request 3 routed to Server3\n",
      "Request 4 routed to Server1\n",
      "Request 5 routed to Server3\n",
      "Request 6 routed to Server1\n",
      "Request 7 routed to Server3\n",
      "Request 8 routed to Server3\n",
      "Request 9 routed to Server3\n",
      "Request 10 routed to Server2\n"
     ]
    }
   ],
   "source": [
    "import random\n",
    "\n",
    "# List of available servers\n",
    "servers = [\"Server1\", \"Server2\", \"Server3\"]\n",
    "\n",
    "\n",
    "# Round Robin Load Balancer\n",
    "class RoundRobinLoadBalancer:\n",
    "    def __init__(self, servers):\n",
    "        self.servers = servers\n",
    "        self.current_index = 0\n",
    "\n",
    "    def get_server(self):\n",
    "        server = self.servers[self.current_index]\n",
    "        self.current_index = (self.current_index + 1) % len(self.servers)\n",
    "        return server\n",
    "\n",
    "# Random Load Balancer\n",
    "class RandomLoadBalancer:\n",
    "    def __init__(self, servers):\n",
    "        self.servers = servers\n",
    "\n",
    "    def get_server(self):\n",
    "        return random.choice(self.servers)\n",
    "\n",
    "def simulate_requests(load_balancer, num_requests):\n",
    "    for i in range(1, num_requests + 1):\n",
    "        server = load_balancer.get_server()\n",
    "        print(f\"Request {i} routed to {server}\")\n",
    "\n",
    "\n",
    "if __name__ == \"__main__\":\n",
    "    print(\"Round Robin Load Balancing:\")\n",
    "    round_robin_lb = RoundRobinLoadBalancer(servers)\n",
    "    simulate_requests(round_robin_lb, 10)\n",
    "\n",
    "    print(\"\\nRandom Load Balancing:\")\n",
    "    random_lb = RandomLoadBalancer(servers)\n",
    "    simulate_requests(random_lb, 10)    "
   ]
  }
 ],
 "metadata": {
  "kernelspec": {
   "display_name": "base",
   "language": "python",
   "name": "python3"
  },
  "language_info": {
   "codemirror_mode": {
    "name": "ipython",
    "version": 3
   },
   "file_extension": ".py",
   "mimetype": "text/x-python",
   "name": "python",
   "nbconvert_exporter": "python",
   "pygments_lexer": "ipython3",
   "version": "3.12.7"
  }
 },
 "nbformat": 4,
 "nbformat_minor": 5
}
